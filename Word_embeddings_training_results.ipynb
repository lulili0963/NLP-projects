{
 "cells": [
  {
   "cell_type": "code",
   "execution_count": 1,
   "metadata": {},
   "outputs": [],
   "source": [
    "from gensim import utils\n",
    "import tempfile\n",
    "from gensim.models import Word2Vec\n",
    "from gensim.models import FastText\n",
    "from gensim.utils import tokenize\n",
    "from gensim.test.utils import datapath"
   ]
  },
  {
   "cell_type": "code",
   "execution_count": 2,
   "metadata": {},
   "outputs": [],
   "source": [
    "# loading medical corpus\n",
    "class MyCorpus_Medical:\n",
    "    \"\"\"An iterator that yields sentences (lists of str).\"\"\"\n",
    "\n",
    "    def __iter__(self):\n",
    "\n",
    "        for line in open('QUAERO_FrenchMed_traindev.ospl'):\n",
    "            #print(line)\n",
    "            # assume there's one document per line, tokens separated by whitespace\n",
    "            yield utils.simple_preprocess(line)"
   ]
  },
  {
   "cell_type": "code",
   "execution_count": 3,
   "metadata": {},
   "outputs": [],
   "source": [
    "# loading press corpus\n",
    "class MyCorpus_Press:\n",
    "    \"\"\"An iterator that yields sentences (lists of str).\"\"\"\n",
    "\n",
    "    def __iter__(self):\n",
    "\n",
    "        for line in open('QUAERO_FrenchPress_traindev.ospl'):\n",
    "            #print(line)\n",
    "            # assume there's one document per line, tokens separated by whitespace\n",
    "            yield utils.simple_preprocess(line)"
   ]
  },
  {
   "cell_type": "markdown",
   "metadata": {},
   "source": [
    "# Models"
   ]
  },
  {
   "cell_type": "code",
   "execution_count": 4,
   "metadata": {},
   "outputs": [],
   "source": [
    "# Medical corpus\n",
    "\n",
    "# medical sentences\n",
    "sentences_medical = MyCorpus_Medical()\n",
    "    "
   ]
  },
  {
   "cell_type": "code",
   "execution_count": 5,
   "metadata": {},
   "outputs": [],
   "source": [
    "# word2vec cbow model with medical \n",
    "\n",
    "#Cbow sg = 0\n",
    "model_word2vec_cbow_med = Word2Vec(vector_size=100, min_count = 1,sg = 0, window = 3)\n",
    "model_word2vec_cbow_med.build_vocab(sentences_medical)  \n",
    "model_word2vec_cbow_med.train(sentences_medical, total_examples=model_word2vec_cbow_med.corpus_count, epochs=50)\n",
    "    \n",
    "#save model\n",
    "model_word2vec_cbow_med.save('model_word2vec_cbow_med')\n",
    "\n"
   ]
  },
  {
   "cell_type": "code",
   "execution_count": 6,
   "metadata": {},
   "outputs": [],
   "source": [
    "# word2vec skipgram model with medical \n",
    "\n",
    "#skipgram sg = 1\n",
    "model_word2vec_skipgram_med = Word2Vec(vector_size=100, min_count = 1,sg = 1, window = 3)\n",
    "model_word2vec_skipgram_med.build_vocab(sentences_medical)  \n",
    "model_word2vec_skipgram_med.train(sentences_medical, total_examples=model_word2vec_skipgram_med.corpus_count, epochs=50)\n",
    "    \n",
    "#save model\n",
    "model_word2vec_skipgram_med.save('model_word2vec_skipgram_med')\n"
   ]
  },
  {
   "cell_type": "code",
   "execution_count": 7,
   "metadata": {},
   "outputs": [],
   "source": [
    "# fasttext cbow model with medical\n",
    "\n",
    "#Cbow sg = 0\n",
    "model_fasttext_cbow_med = FastText(vector_size=100, min_count=1,sg = 0,window = 3)\n",
    "model_fasttext_cbow_med.build_vocab(sentences_medical)\n",
    "total_examples = model_fasttext_cbow_med.corpus_count\n",
    "model_fasttext_cbow_med.train(sentences_medical, total_examples=total_examples, epochs=50)\n",
    "\n",
    "#save model\n",
    "model_fasttext_cbow_med.save('model_fasttext_cbow_med')"
   ]
  },
  {
   "cell_type": "code",
   "execution_count": 8,
   "metadata": {},
   "outputs": [],
   "source": [
    "# Press corpus\n",
    "\n",
    "# press sentences\n",
    "sentences_press = MyCorpus_Press()"
   ]
  },
  {
   "cell_type": "code",
   "execution_count": 9,
   "metadata": {},
   "outputs": [],
   "source": [
    "# word2vec cbow model with press\n",
    "\n",
    "#Cbow sg = 0\n",
    "model_word2vec_cbow_press = Word2Vec(vector_size=100, min_count = 1,sg = 0, window = 3)\n",
    "model_word2vec_cbow_press.build_vocab(sentences_press)  \n",
    "model_word2vec_cbow_press.train(sentences_press, total_examples=model_word2vec_cbow_press.corpus_count, epochs=50)\n",
    "\n",
    "#save model\n",
    "model_word2vec_cbow_press.save('model_word2vec_cbow_press')"
   ]
  },
  {
   "cell_type": "code",
   "execution_count": 10,
   "metadata": {},
   "outputs": [],
   "source": [
    "# word2vec skipgram model with press\n",
    "\n",
    "#skipgram sg = 1\n",
    "model_word2vec_skipgram_press = Word2Vec(vector_size=100, min_count = 1,sg = 1, window = 3)\n",
    "model_word2vec_skipgram_press.build_vocab(sentences_press)  \n",
    "model_word2vec_skipgram_press.train(sentences_press, total_examples=model_word2vec_skipgram_press.corpus_count, epochs=50)\n",
    "    \n",
    "#save model\n",
    "model_word2vec_skipgram_press.save('model_word2vec_skipgram_press')"
   ]
  },
  {
   "cell_type": "code",
   "execution_count": 11,
   "metadata": {},
   "outputs": [],
   "source": [
    "# fasttext cbow model with press\n",
    "\n",
    "#Cbow sg = 0\n",
    "model_fasttext_cbow_press = FastText(vector_size=100, min_count=1,sg = 0,window = 3)\n",
    "model_fasttext_cbow_press.build_vocab(sentences_press)\n",
    "total_examples = model_fasttext_cbow_press.corpus_count\n",
    "model_fasttext_cbow_press.train(sentences_press, total_examples=total_examples, epochs=50)\n",
    "    \n",
    "#save model\n",
    "model_fasttext_cbow_press.save('model_fasttext_cbow_press')"
   ]
  },
  {
   "cell_type": "markdown",
   "metadata": {},
   "source": [
    "# Similarity"
   ]
  },
  {
   "cell_type": "code",
   "execution_count": 12,
   "metadata": {
    "scrolled": true
   },
   "outputs": [
    {
     "name": "stdout",
     "output_type": "stream",
     "text": [
      "word2vec_cbow_medical_corpus \n",
      " patient ['aptitude', 'délai', 'carte', 'pas', 'montrer', 'avoir', 'souffre', 'recommandé', 'arrêté', 'prescripteur']\n",
      "word2vec_skipgram_medical_corpus \n",
      " patient ['carte', 'montrez', 'alerte', 'montrer', 'spéciale', 'aptitude', 'souffre', 'existante', 'fiable', 'impliquant']\n",
      "fasttext_cbow_medical_corpus \n",
      " patient ['patiente', 'parvient', 'maintient', 'appartient', 'obtiennent', 'gradient', 'recevaient', 'patients', 'excipient', 'conscient']\n",
      "word2vec_cbow_medical_corpus \n",
      " traitement ['vih', 'débuter', 'infection', 'instauration', 'pentoses', 'début', 'diagnostic', 'concomitant', 'rôle', 'poussées']\n",
      "word2vec_skipgram_medical_corpus \n",
      " traitement ['instauration', 'contrôlée', 'chirurgical', 'concomitant', 'traités', 'réalisé', 'cassation', 'opportuniste', 'débuter', 'arrêt']\n",
      "fasttext_cbow_medical_corpus \n",
      " traitement ['traitment', 'taaitement', 'allaitement', 'évitement', 'étroitement', 'entrainement', 'département', 'directement', 'correctement', 'recrutement']\n",
      "word2vec_cbow_medical_corpus \n",
      " maladie ['parkinson', 'basedow', 'recklinghausen', 'hodgkin', 'crohn', 'marfan', 'liée', 'juger', 'hirschsprung', 'lévothyroxine']\n",
      "word2vec_skipgram_medical_corpus \n",
      " maladie ['parkinson', 'recklinghausen', 'avancé', 'crohn', 'liée', 'bourneville', 'basedow', 'constituée', 'thrombo', 'coronarienne']\n",
      "fasttext_cbow_medical_corpus \n",
      " maladie ['malade', 'maldi', 'malaise', 'malgré', 'amantadie', 'parkinson', 'maligne', 'malherbe', 'maltraitance', 'malignité']\n",
      "word2vec_cbow_medical_corpus \n",
      " solution ['diluer', 'buvable', 'préparer', 'ml', 'limpide', 'préparation', 'pompe', 'injectable', 'poudre', 'incolore']\n",
      "word2vec_skipgram_medical_corpus \n",
      " solution ['diluer', 'limpide', 'poudre', 'incolore', 'préparée', 'aseptique', 'exempte', 'préparer', 'transparente', 'buvable']\n",
      "fasttext_cbow_medical_corpus \n",
      " solution ['dissolution', 'dilution', 'evolution', 'pollution', 'reconstitution', 'évolution', 'redistribution', 'constitution', 'distribution', 'substitution']\n",
      "word2vec_cbow_medical_corpus \n",
      " jaune ['pâle', 'pelliculé', 'ethylcellulose', 'sucrose', 'transparente', 'saccharose', 'éthylcellulose', 'oral', 'rond', 'lyophilisée']\n",
      "word2vec_skipgram_medical_corpus \n",
      " jaune ['pâle', 'ethylcellulose', 'talc', 'orange', 'calotermes', 'éthylcellulose', 'oxyde', 'fer', 'dioxyde', 'flavicollis']\n",
      "fasttext_cbow_medical_corpus \n",
      " jaune ['gêne', 'titane', 'hexane', 'lane', 'rhône', 'jeune', 'crâne', 'banane', 'psoralène', 'burhenne']\n"
     ]
    }
   ],
   "source": [
    "# Compare embeddings trained on the same corpus\n",
    "\n",
    "# medical corpus\n",
    "\n",
    "for word in ['patient', 'traitement', 'maladie', 'solution', 'jaune']:\n",
    "\n",
    "    #word2vec_cbow_medical_corpus\n",
    "    print('word2vec_cbow_medical_corpus \\n',word,[w for w, score in model_word2vec_cbow_med.wv.most_similar(word, topn=10)])\n",
    "    #word2vec_skipgram_medical_corpus\n",
    "    print('word2vec_skipgram_medical_corpus \\n',word,[w for w, score in model_word2vec_skipgram_med.wv.most_similar(word, topn=10)])\n",
    "    #fasttext_cbow_medical_corpus  \n",
    "    print('fasttext_cbow_medical_corpus \\n',word,[w for w, score in model_fasttext_cbow_med.wv.most_similar(word, topn=10)])"
   ]
  },
  {
   "cell_type": "code",
   "execution_count": 13,
   "metadata": {},
   "outputs": [
    {
     "name": "stdout",
     "output_type": "stream",
     "text": [
      "word2vec_cbow_press_corpus \n",
      " patient ['concessionnaire', 'cancéreux', 'coq', 'touriste', 'instrument', 'sachet', 'lac', 'carton', 'escroc', 'messie']\n",
      "word2vec_skipgram_press_corpus \n",
      " patient ['cancéreux', 'hospitalisé', 'humble', 'transmissible', 'manquement', 'éduqué', 'derridéenne', 'coco', 'missionnaire', 'flagrant']\n",
      "fasttext_cbow_press_corpus \n",
      " patient ['patientent', 'impatient', 'détient', 'renient', 'impatientent', 'initient', 'abstient', 'remanient', 'essuient', 'retient']\n",
      "word2vec_cbow_press_corpus \n",
      " traitement ['sida', 'cancer', 'collectif', 'survivant', 'logement', 'coût', 'système', 'égal', 'calcul', 'cucs']\n",
      "word2vec_skipgram_press_corpus \n",
      " traitement ['préjudice', 'médicamenteux', 'antidouleur', 'allégations', 'infligés', 'compétences', 'générateurs', 'acquisition', 'outil', 'pourcentage']\n",
      "fasttext_cbow_press_corpus \n",
      " traitement ['retraitement', 'subitement', 'bêtement', 'recrutement', 'doctement', 'vêtement', 'gratuitement', 'dépècement', 'abruptement', 'modestement']\n",
      "word2vec_cbow_press_corpus \n",
      " maladie ['prévention', 'épidémie', 'mondialisation', 'pneumopathie', 'prostitution', 'publicité', 'famine', 'software', 'contamination', 'psychose']\n",
      "word2vec_skipgram_press_corpus \n",
      " maladie ['pulmonaire', 'pneumopathie', 'neurologique', 'alzheimer', 'virale', 'orpheline', 'contaminants', 'succombent', 'cancéreuse', 'sida']\n",
      "fasttext_cbow_press_corpus \n",
      " maladie ['malade', 'mala', 'malawi', 'maladies', 'malawite', 'malabo', 'malaga', 'malnutrie', 'maladresse', 'malnutrition']\n",
      "word2vec_cbow_press_corpus \n",
      " solution ['recette', 'consensuelle', 'stratégie', 'alternative', 'catastrophe', 'formule', 'refonte', 'pudeur', 'certitude', 'ambition']\n",
      "word2vec_skipgram_press_corpus \n",
      " solution ['consensuelle', 'reconci', 'suffisante', 'lancinant', 'agréée', 'bosseront', 'osseuse', 'garantissant', 'standards', 'perplexe']\n",
      "fasttext_cbow_press_corpus \n",
      " solution ['résolution', 'dissolution', 'dilution', 'révolution', 'pollution', 'évolution', 'caution', 'parution', 'diminution', 'inhibition']\n",
      "word2vec_cbow_press_corpus \n",
      " jaune ['maillot', 'saâdoune', 'endossé', 'emparé', 'pois', 'lachhab', 'étoile', 'croate', 'planétarium', 'bradeley']\n",
      "word2vec_skipgram_press_corpus \n",
      " jaune ['maillot', 'emparé', 'décaleront', 'baden', 'marchant', 'pena', 'grenadine', 'ressuscité', 'prologue', 'brousse']\n",
      "fasttext_cbow_press_corpus \n",
      " jaune ['brune', 'dune', 'aune', 'lagune', 'lune', 'saâdoune', 'neptune', 'saadoune', 'abdoune', 'greene']\n"
     ]
    }
   ],
   "source": [
    "# Compare embeddings trained on the same corpus\n",
    "# press corpus\n",
    "\n",
    "for word in ['patient', 'traitement', 'maladie', 'solution', 'jaune']:\n",
    "\n",
    "    #word2vec_cbow_press_corpus\n",
    "    print('word2vec_cbow_press_corpus \\n',word,[w for w, score in model_word2vec_cbow_press.wv.most_similar(word, topn=10)])\n",
    "    #word2vec_skipgram_press_corpus\n",
    "    print('word2vec_skipgram_press_corpus \\n',word,[w for w, score in model_word2vec_skipgram_press.wv.most_similar(word, topn=10)])\n",
    "    #fasttext_cbow_press_corpus  \n",
    "    print('fasttext_cbow_press_corpus \\n',word,[w for w, score in model_fasttext_cbow_press.wv.most_similar(word, topn=10)])"
   ]
  },
  {
   "cell_type": "code",
   "execution_count": 14,
   "metadata": {},
   "outputs": [
    {
     "name": "stdout",
     "output_type": "stream",
     "text": [
      "word2vec_cbow_medical_corpus \n",
      " patient ['aptitude', 'délai', 'carte', 'pas', 'montrer', 'avoir', 'souffre', 'recommandé', 'arrêté', 'prescripteur']\n",
      "word2vec_cbow_press_corpus \n",
      " patient ['concessionnaire', 'cancéreux', 'coq', 'touriste', 'instrument', 'sachet', 'lac', 'carton', 'escroc', 'messie']\n",
      "word2vec_cbow_medical_corpus \n",
      " traitement ['vih', 'débuter', 'infection', 'instauration', 'pentoses', 'début', 'diagnostic', 'concomitant', 'rôle', 'poussées']\n",
      "word2vec_cbow_press_corpus \n",
      " traitement ['sida', 'cancer', 'collectif', 'survivant', 'logement', 'coût', 'système', 'égal', 'calcul', 'cucs']\n",
      "word2vec_cbow_medical_corpus \n",
      " maladie ['parkinson', 'basedow', 'recklinghausen', 'hodgkin', 'crohn', 'marfan', 'liée', 'juger', 'hirschsprung', 'lévothyroxine']\n",
      "word2vec_cbow_press_corpus \n",
      " maladie ['prévention', 'épidémie', 'mondialisation', 'pneumopathie', 'prostitution', 'publicité', 'famine', 'software', 'contamination', 'psychose']\n",
      "word2vec_cbow_medical_corpus \n",
      " solution ['diluer', 'buvable', 'préparer', 'ml', 'limpide', 'préparation', 'pompe', 'injectable', 'poudre', 'incolore']\n",
      "word2vec_cbow_press_corpus \n",
      " solution ['recette', 'consensuelle', 'stratégie', 'alternative', 'catastrophe', 'formule', 'refonte', 'pudeur', 'certitude', 'ambition']\n",
      "word2vec_cbow_medical_corpus \n",
      " jaune ['pâle', 'pelliculé', 'ethylcellulose', 'sucrose', 'transparente', 'saccharose', 'éthylcellulose', 'oral', 'rond', 'lyophilisée']\n",
      "word2vec_cbow_press_corpus \n",
      " jaune ['maillot', 'saâdoune', 'endossé', 'emparé', 'pois', 'lachhab', 'étoile', 'croate', 'planétarium', 'bradeley']\n"
     ]
    }
   ],
   "source": [
    "# Compare embeddings (same approach) trained on different corpora\n",
    "\n",
    "# model: word2vec_cbow\n",
    "for word in ['patient', 'traitement', 'maladie', 'solution', 'jaune']:\n",
    "\n",
    "    #word2vec_cbow_medical_corpus\n",
    "    print('word2vec_cbow_medical_corpus \\n',word,[w for w, score in model_word2vec_cbow_med.wv.most_similar(word, topn=10)])\n",
    "    #word2vec_cbow_press_corpus\n",
    "    print('word2vec_cbow_press_corpus \\n',word,[w for w, score in model_word2vec_cbow_press.wv.most_similar(word, topn=10)])\n"
   ]
  },
  {
   "cell_type": "code",
   "execution_count": 15,
   "metadata": {},
   "outputs": [
    {
     "name": "stdout",
     "output_type": "stream",
     "text": [
      "word2vec_skipgram_medical_corpus \n",
      " patient ['carte', 'montrez', 'alerte', 'montrer', 'spéciale', 'aptitude', 'souffre', 'existante', 'fiable', 'impliquant']\n",
      "word2vec_skipgram_press_corpus \n",
      " patient ['cancéreux', 'hospitalisé', 'humble', 'transmissible', 'manquement', 'éduqué', 'derridéenne', 'coco', 'missionnaire', 'flagrant']\n",
      "word2vec_skipgram_medical_corpus \n",
      " traitement ['instauration', 'contrôlée', 'chirurgical', 'concomitant', 'traités', 'réalisé', 'cassation', 'opportuniste', 'débuter', 'arrêt']\n",
      "word2vec_skipgram_press_corpus \n",
      " traitement ['préjudice', 'médicamenteux', 'antidouleur', 'allégations', 'infligés', 'compétences', 'générateurs', 'acquisition', 'outil', 'pourcentage']\n",
      "word2vec_skipgram_medical_corpus \n",
      " maladie ['parkinson', 'recklinghausen', 'avancé', 'crohn', 'liée', 'bourneville', 'basedow', 'constituée', 'thrombo', 'coronarienne']\n",
      "word2vec_skipgram_press_corpus \n",
      " maladie ['pulmonaire', 'pneumopathie', 'neurologique', 'alzheimer', 'virale', 'orpheline', 'contaminants', 'succombent', 'cancéreuse', 'sida']\n",
      "word2vec_skipgram_medical_corpus \n",
      " solution ['diluer', 'limpide', 'poudre', 'incolore', 'préparée', 'aseptique', 'exempte', 'préparer', 'transparente', 'buvable']\n",
      "word2vec_skipgram_press_corpus \n",
      " solution ['consensuelle', 'reconci', 'suffisante', 'lancinant', 'agréée', 'bosseront', 'osseuse', 'garantissant', 'standards', 'perplexe']\n",
      "word2vec_skipgram_medical_corpus \n",
      " jaune ['pâle', 'ethylcellulose', 'talc', 'orange', 'calotermes', 'éthylcellulose', 'oxyde', 'fer', 'dioxyde', 'flavicollis']\n",
      "word2vec_skipgram_press_corpus \n",
      " jaune ['maillot', 'emparé', 'décaleront', 'baden', 'marchant', 'pena', 'grenadine', 'ressuscité', 'prologue', 'brousse']\n"
     ]
    }
   ],
   "source": [
    "# Compare embeddings (same approach) trained on different corpora\n",
    "\n",
    "# model: word2vec_skipgram\n",
    "\n",
    "for word in ['patient', 'traitement', 'maladie', 'solution', 'jaune']:\n",
    "    #word2vec_skipgram_medical_corpus\n",
    "    print('word2vec_skipgram_medical_corpus \\n',word,[w for w, score in model_word2vec_skipgram_med.wv.most_similar(word, topn=10)])\n",
    "    #word2vec_skipgram_press_corpus\n",
    "    print('word2vec_skipgram_press_corpus \\n',word,[w for w, score in model_word2vec_skipgram_press.wv.most_similar(word, topn=10)])\n"
   ]
  },
  {
   "cell_type": "code",
   "execution_count": 16,
   "metadata": {},
   "outputs": [
    {
     "name": "stdout",
     "output_type": "stream",
     "text": [
      "fasttext_cbow_medical_corpus \n",
      " patient ['patiente', 'parvient', 'maintient', 'appartient', 'obtiennent', 'gradient', 'recevaient', 'patients', 'excipient', 'conscient']\n",
      "fasttext_cbow_press_corpus \n",
      " patient ['patientent', 'impatient', 'détient', 'renient', 'impatientent', 'initient', 'abstient', 'remanient', 'essuient', 'retient']\n",
      "fasttext_cbow_medical_corpus \n",
      " traitement ['traitment', 'taaitement', 'allaitement', 'évitement', 'étroitement', 'entrainement', 'département', 'directement', 'correctement', 'recrutement']\n",
      "fasttext_cbow_press_corpus \n",
      " traitement ['retraitement', 'subitement', 'bêtement', 'recrutement', 'doctement', 'vêtement', 'gratuitement', 'dépècement', 'abruptement', 'modestement']\n",
      "fasttext_cbow_medical_corpus \n",
      " maladie ['malade', 'maldi', 'malaise', 'malgré', 'amantadie', 'parkinson', 'maligne', 'malherbe', 'maltraitance', 'malignité']\n",
      "fasttext_cbow_press_corpus \n",
      " maladie ['malade', 'mala', 'malawi', 'maladies', 'malawite', 'malabo', 'malaga', 'malnutrie', 'maladresse', 'malnutrition']\n",
      "fasttext_cbow_medical_corpus \n",
      " solution ['dissolution', 'dilution', 'evolution', 'pollution', 'reconstitution', 'évolution', 'redistribution', 'constitution', 'distribution', 'substitution']\n",
      "fasttext_cbow_press_corpus \n",
      " solution ['résolution', 'dissolution', 'dilution', 'révolution', 'pollution', 'évolution', 'caution', 'parution', 'diminution', 'inhibition']\n",
      "fasttext_cbow_medical_corpus \n",
      " jaune ['gêne', 'titane', 'hexane', 'lane', 'rhône', 'jeune', 'crâne', 'banane', 'psoralène', 'burhenne']\n",
      "fasttext_cbow_press_corpus \n",
      " jaune ['brune', 'dune', 'aune', 'lagune', 'lune', 'saâdoune', 'neptune', 'saadoune', 'abdoune', 'greene']\n"
     ]
    }
   ],
   "source": [
    "# Compare embeddings (same approach) trained on different corpora\n",
    "\n",
    "# model: fasttext_cbow\n",
    "\n",
    "for word in ['patient', 'traitement', 'maladie', 'solution', 'jaune']:\n",
    "    \n",
    "    #fasttext_cbow_medical_corpus  \n",
    "    print('fasttext_cbow_medical_corpus \\n',word,[w for w, score in model_fasttext_cbow_med.wv.most_similar(word, topn=10)])\n",
    "    \n",
    "    #fasttext_cbow_press_corpus  \n",
    "    print('fasttext_cbow_press_corpus \\n',word,[w for w, score in model_fasttext_cbow_press.wv.most_similar(word, topn=10)])\n",
    "\n"
   ]
  }
 ],
 "metadata": {
  "kernelspec": {
   "display_name": "Python 3",
   "language": "python",
   "name": "python3"
  },
  "language_info": {
   "codemirror_mode": {
    "name": "ipython",
    "version": 3
   },
   "file_extension": ".py",
   "mimetype": "text/x-python",
   "name": "python",
   "nbconvert_exporter": "python",
   "pygments_lexer": "ipython3",
   "version": "3.8.6"
  }
 },
 "nbformat": 4,
 "nbformat_minor": 4
}
